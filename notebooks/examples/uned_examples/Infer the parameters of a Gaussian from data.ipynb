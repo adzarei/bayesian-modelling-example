{
 "cells": [
  {
   "cell_type": "markdown",
   "id": "8589ee99",
   "metadata": {},
   "source": [
    "# Bayesian inference on the mean and standard deviation of a Gaussian distribution"
   ]
  },
  {
   "cell_type": "markdown",
   "id": "1193a833",
   "metadata": {},
   "source": [
    "In this notebook we will start with a very simple example. It is not hierarchical and it is only meant as an introduction to more complex models in subsequent notebooks. \n",
    "\n",
    "**The problem:** We have $N$ measurements of a physical quantity, all taken with the same instrument in the same experiment. We thus assume that our measurement uncertainties are equal but unknown. We aim at inferring the true value of the quantity $\\mu$ and the associated measurement uncertainty $\\sigma$ under the hypothesis that the measurement errors are Gaussian distributed:\n",
    "$$\n",
    "x \\sim \\mathcal{N}(\\mu,\\sigma)\n",
    "$$\n",
    "\n",
    "We start by generating the data that will be used for inference. We generate ten points from a Gaussian distribution centred at 10 and with a standard deviation of 2. These are the model parameters that we aim to infer. We know them because we generate the data for this example."
   ]
  },
  {
   "cell_type": "code",
   "execution_count": 1,
   "id": "12128768",
   "metadata": {},
   "outputs": [
    {
     "data": {
      "image/png": "[encoded data removed]",
      "text/plain": [
       "Plot with title “”"
      ]
     },
     "metadata": {
      "image/png": {
       "height": 420,
       "width": 420
      }
     },
     "output_type": "display_data"
    }
   ],
   "source": [
    "set.seed(0)\n",
    "x <- rnorm(25,mean = 10, sd = 2)\n",
    "par(mfcol=c(1,2))\n",
    "hist(x, xlab=\"x\",ylab=\"Counts\")\n",
    "plot(density(x),xlab=\"x\",ylab=\"Probability density\",main=\"\")"
   ]
  },
  {
   "cell_type": "markdown",
   "id": "cf43fe15",
   "metadata": {},
   "source": [
    "Now that we have the data, let us come back to the (extremely simple) model for how the data were generated. In this case we know precisely how they were generated but in the general case this will be a creative exercise guided heuristically by our prior knowledge about the problem. Our model has only two parameters: the true value of the physical quantity and the properties of the noise process (the measument uncertainties $\\sigma$) that introduces measurement errors. We depict this model using two nodes at the top ($\\mu$ and $\\sigma$) and the set of observations $\\{x_i; i=1,2,N\\}$ at the bottom.  "
   ]
  },
  {
   "cell_type": "markdown",
   "id": "d2992a04",
   "metadata": {},
   "source": [
    "### The likelihood"
   ]
  },
  {
   "cell_type": "markdown",
   "id": "2f9752b1",
   "metadata": {},
   "source": [
    "Remember that the likelihood is defined as the probability of our data given the unknown model parameters: $p(\\{x_i\\}\\mid\\mu,\\sigma)$. \n",
    "\n",
    "In our case and according to the problem definition, we hypothesize that the measurements follow a Gaussian distribution centred at the true value and with a standard deviation $\\sigma$. Hence\n",
    "\n",
    "$$\n",
    "p(\\{x_i\\}\\mid\\mu,\\sigma)= \\prod_{i=1}^N \\frac{1}{\\sqrt{(2\\pi)}\\sigma^2}\\exp(-\\frac{(x_i-\\mu)^2}{2\\sigma^2})\n",
    "$$\n",
    "\n",
    "Hence, if we knew the values of $\\mu$ and $\\sigma$ we could compute it easily using the Gaussian probability density. But we don't. That is precisely what we aim to infer, and the likelihood is but one character in the bayesian dramma. What bayesian inference allows us is precisely that: to infer the (distribution of the) parameters of interest given the observations. This is what we call the posterior probability which in this case is $p(\\mu, \\sigma\\mid\\{x_i\\})$. According to Bayes' theorem:\n",
    "\n",
    "$$\n",
    "p(\\mu, \\sigma\\mid\\{x_i\\}) = \\frac{p(\\{x_i\\}\\mid\\mu,\\sigma)\\cdot(p(\\mu,\\sigma))}{p(\\{x_i\\})}\n",
    "$$\n",
    "\n",
    "Let us write the code to compute the likelihood:"
   ]
  },
  {
   "cell_type": "code",
   "execution_count": 2,
   "id": "440fae13",
   "metadata": {},
   "outputs": [
    {
     "data": {
      "text/html": [
       "6.96747396385222e-36"
      ],
      "text/latex": [
       "6.96747396385222e-36"
      ],
      "text/markdown": [
       "6.96747396385222e-36"
      ],
      "text/plain": [
       "[1] 6.967474e-36"
      ]
     },
     "metadata": {},
     "output_type": "display_data"
    }
   ],
   "source": [
    "likelihood <- function(mu,sigma) \n",
    "    {\n",
    "    likvec = mapply(dnorm,mean = mu,sd = sigma,x=x) # This is a vector containing the probability densities for each observation\n",
    "    return(prod(likvec))\n",
    "}\n",
    "\n",
    "likelihood(10,10)"
   ]
  },
  {
   "cell_type": "markdown",
   "id": "cdb242d7",
   "metadata": {},
   "source": [
    "### The prior"
   ]
  },
  {
   "cell_type": "markdown",
   "id": "5aa2e63a",
   "metadata": {},
   "source": [
    "We have already defined the likelihood analytically so we can compute its value for any given pair of values \n",
    "$\\mu$ and $\\sigma$. The next two characters in the Bayesian dramma are the prior $p(\\mu,\\sigma)$ and the evidence $p\\{x_i\\}$. The latter is a scalar (a real number in this context) independent of the values of $\\mu$ and $\\sigma$. That is to say, it is the same for all values of $\\sigma$ and $\\mu$. It acts as a normalization constant that ensures that the posterior probability is properly normalized (if that is at all possible; see the concept of improper distribution in the textbook). So for the time being we will just neglect this normalization constant. This is fine as long as we do not need to select amongst competing models and aim only at inferring the posterior distribution.\n",
    "\n",
    "Then the only element left for a determination of the posterior probabilities for any value of the model parameters is the prior. I will skip here all the controversy about frequentist/bayesian inference and simply define a proper non-informative prior. Actually two: a uniform prior in a bounded interval and a Gaussian prior with a large standard deviation. How we define the prior is dependent on the problem that we attempt to solve. It is supposed to encompass our knowledge about the parameters before any data is acquired. If our measuments were measurements of the speed of a moving bicycle, I'd say that a uniform prior between 2 km/h and 100 km/h is a sensible choice. At smaller velocities the bicycle falls and, unless you measure the speed of a Tour de France cyclist descending Tourmalet, it should plausibly contain the true value. If something else is known like, for example that the cyclist is a 7 years old kid, we can narrow down the prior by specifying that our prior belief can be captured by a Gaussian probability centred at 7 km/h with a large standard deviation like 10 km/h. Notice that this allows for positive probability densities at negative values of the speed. Let us try both for our data set.    \n"
   ]
  },
  {
   "cell_type": "markdown",
   "id": "66d2b3a2",
   "metadata": {},
   "source": [
    "### The posterior"
   ]
  },
  {
   "cell_type": "markdown",
   "id": "16fb448a",
   "metadata": {},
   "source": [
    "Now, for the uniform prior we have that the posterior probability density is given by "
   ]
  },
  {
   "cell_type": "code",
   "execution_count": 3,
   "id": "bffddf9a",
   "metadata": {},
   "outputs": [],
   "source": [
    "prior <- function(mu,sigma){\n",
    "    priorMu[mu <= 3| mu>100] = 0 \n",
    "    priorMu[!(mu < 0|mu>100)] = (1/97)\n",
    "    priorSigma[mu <= 0|mu>100] = 0 \n",
    "    priorSigma[!(mu < 0|mu>100)] = 1/sigma\n",
    "    prior = priorMu*priorSigma\n",
    "    return(prior)\n",
    "}\n",
    "\n",
    "posterior <- function(mu,sigma){likelihood(mu,sigma)*prior(mu,sigma)}"
   ]
  },
  {
   "cell_type": "markdown",
   "id": "baad5e6b",
   "metadata": {},
   "source": [
    "Finally, let us define a grid of values of $\\mu$ and $\\sigma$ and compute the posterior probabilities for each of the grid nodes:"
   ]
  },
  {
   "cell_type": "code",
   "execution_count": null,
   "id": "c226eb8e",
   "metadata": {},
   "outputs": [],
   "source": [
    "grid.mu <- seq(0,100,by=0.1)\n",
    "grid.sigma <- seq(0,10,by=0.1)\n",
    "grid <- expand.grid(grid.mu,grid.sigma)\n",
    "colnames(grid) <- c(\"mu\",\"sigma\")\n",
    "plot(grid,pch=\".\")\n",
    "\n",
    "post <- posterior(grid[,1],grid[2])"
   ]
  }
 ],
 "metadata": {
  "kernelspec": {
   "display_name": "R",
   "language": "R",
   "name": "ir"
  },
  "language_info": {
   "codemirror_mode": "r",
   "file_extension": ".r",
   "mimetype": "text/x-r-source",
   "name": "R",
   "pygments_lexer": "r",
   "version": "4.2.1"
  }
 },
 "nbformat": 4,
 "nbformat_minor": 5
}
