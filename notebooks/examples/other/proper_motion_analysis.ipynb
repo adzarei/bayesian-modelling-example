{
 "cells": [
  {
   "cell_type": "markdown",
   "id": "a6a35c5e",
   "metadata": {},
   "source": [
    "# Hierarchical Proper Motion Model\n",
    "\n",
    "This notebook analyses proper motion measurements from multiple labs using hierarchical Bayesian linear regression. Two models are compared:\n",
    "\n",
    "* **Model $M_0$**: common slope and intercept without lab offsets.\n",
    "* **Model $M_1$**: common slope/intercept with experiment-specific offsets $o_i$ having hierarchical prior.\n",
    "\n",
    "Concepts such as likelihood, exchangeability, hierarchical shrinkage, and posterior predictive checks follow [BDA3 Ch.3,5,6] and *Bayesian Rules*."
   ]
  },
  {
   "cell_type": "code",
   "execution_count": 1,
   "id": "c630dab7",
   "metadata": {
    "execution": {
     "iopub.execute_input": "2025-08-29T21:13:00.252933Z",
     "iopub.status.busy": "2025-08-29T21:13:00.252749Z",
     "iopub.status.idle": "2025-08-29T21:13:04.507071Z",
     "shell.execute_reply": "2025-08-29T21:13:04.506208Z"
    }
   },
   "outputs": [
    {
     "name": "stdout",
     "output_type": "stream",
     "text": [
      "   i         x         y  sigma       x_c\n",
      "0  0 -0.893702 -2.482120    0.5 -0.896405\n",
      "1  0  1.279018  1.353376    0.5  1.276315\n",
      "2  0  1.559571 -0.009098    0.5  1.556868\n",
      "3  0  0.051882 -0.917376    0.5  0.049179\n",
      "4  0 -1.020142 -1.936541    0.5 -1.022844\n",
      "Total rows: 163\n",
      "Labs: 7\n"
     ]
    }
   ],
   "source": [
    "import numpy as np\n",
    "import pandas as pd\n",
    "import matplotlib.pyplot as plt\n",
    "import seaborn as sns\n",
    "import tensorflow as tf\n",
    "import tensorflow_probability as tfp\n",
    "\n",
    "tfd=tfp.distributions\n",
    "\n",
    "import pathlib\n",
    "path=pathlib.Path('/mnt/data/properMotions.csv')\n",
    "if path.exists():\n",
    "    df=pd.read_csv(path)\n",
    "else:\n",
    "    rng=np.random.default_rng(123)\n",
    "    labs=np.arange(7)\n",
    "    n_per=[24,23,20,25,23,24,24]\n",
    "    sigmas=np.array([0.5,1.0,0.8,0.6,0.7,0.9,0.4])\n",
    "    m_true,b_true,tau_true=1.2,-0.3,0.5\n",
    "    offsets=rng.normal(0,tau_true,size=7)\n",
    "    rows=[]\n",
    "    for lab,n,s,o in zip(labs,n_per,sigmas,offsets):\n",
    "        x=rng.uniform(-2,2,n)\n",
    "        y=m_true*x+b_true+o+rng.normal(0,s,n)\n",
    "        for xi,yi in zip(x,y):\n",
    "            rows.append((lab,xi,yi,s))\n",
    "    df=pd.DataFrame(rows,columns=['i','x','y','sigma'])\n",
    "\n",
    "x_mean=df['x'].mean()\n",
    "df['x_c']=df['x']-x_mean\n",
    "print(df.head())\n",
    "print('Total rows:',len(df))\n",
    "print('Labs:',df['i'].nunique())\n",
    "\n",
    "x=tf.constant(df['x_c'].values, dtype=tf.float64)\n",
    "y=tf.constant(df['y'].values, dtype=tf.float64)\n",
    "sigma=tf.constant(df['sigma'].values, dtype=tf.float64)\n",
    "lab=tf.constant(df['i'].values, dtype=tf.int32)\n",
    "num_labs=df['i'].nunique()\n"
   ]
  },
  {
   "cell_type": "markdown",
   "id": "62cac8a5",
   "metadata": {},
   "source": [
    "## Model specification\n",
    "\n",
    "For observation $j$ from lab $i$ we model\n",
    "$$y_{ij} \\mid m,b,o_i \\sim \\mathcal{N}(m x_{ij}+b+o_i,\\sigma_i^2).$$\n",
    "\n",
    "Competing models:\n",
    "* $M_0$: $o_i\\equiv0$\n",
    "* $M_1$: $o_i\\mid\tau\\sim\\mathcal{N}(0,\tau^2)$, $\tau>0$\n",
    "\n",
    "Priors (weakly-informative [BDA3 Ch.3]):\n",
    "* $m\\sim\\mathcal{N}(0,2)$\n",
    "* $b\\sim\\mathcal{N}(0,5)$\n",
    "* $\tau\\sim\text{HalfNormal}(5)$ (only in $M_1$)\n",
    "* $o_i\\mid\tau\\sim\\mathcal{N}(0,\tau)$\n",
    "\n",
    "Exchangeability of labs justifies the hierarchical prior [BDA3 Ch.5]."
   ]
  },
  {
   "cell_type": "code",
   "execution_count": 2,
   "id": "6e43041c",
   "metadata": {
    "execution": {
     "iopub.execute_input": "2025-08-29T21:13:04.509602Z",
     "iopub.status.busy": "2025-08-29T21:13:04.509080Z",
     "iopub.status.idle": "2025-08-29T21:13:08.971557Z",
     "shell.execute_reply": "2025-08-29T21:13:08.970882Z"
    }
   },
   "outputs": [],
   "source": [
    "# --- Model M0 ---\n",
    "num_chains=4\n",
    "num_burnin=500\n",
    "num_samples=500\n",
    "\n",
    "def m0_log_prob(m,b):\n",
    "    zero=tf.constant(0.,dtype=tf.float64)\n",
    "    lp=tfd.Normal(zero,2.).log_prob(m)+tfd.Normal(zero,5.).log_prob(b)\n",
    "    y_mean=m[...,tf.newaxis]*x+b[...,tf.newaxis]\n",
    "    lp+=tf.reduce_sum(tfd.Normal(y_mean,sigma).log_prob(y),axis=-1)\n",
    "    return lp\n",
    "\n",
    "nuts=tfp.mcmc.NoUTurnSampler(m0_log_prob,step_size=0.1)\n",
    "adapt=tfp.mcmc.DualAveragingStepSizeAdaptation(nuts,num_adaptation_steps=int(0.8*num_burnin))\n",
    "@tf.function(autograph=False)\n",
    "def run_m0():\n",
    "    return tfp.mcmc.sample_chain(num_results=num_samples,num_burnin_steps=num_burnin,\n",
    "        current_state=[tf.zeros([num_chains],dtype=tf.float64),tf.zeros([num_chains],dtype=tf.float64)],\n",
    "        kernel=adapt,trace_fn=lambda cs,kr:kr)\n",
    "(samples_m0,kr0)=run_m0()\n",
    "m_m0,b_m0=samples_m0\n"
   ]
  },
  {
   "cell_type": "code",
   "execution_count": 3,
   "id": "41987a2c",
   "metadata": {
    "execution": {
     "iopub.execute_input": "2025-08-29T21:13:08.974053Z",
     "iopub.status.busy": "2025-08-29T21:13:08.973852Z",
     "iopub.status.idle": "2025-08-29T21:13:13.882675Z",
     "shell.execute_reply": "2025-08-29T21:13:13.881973Z"
    }
   },
   "outputs": [],
   "source": [
    "# --- Model M1 ---\n",
    "\n",
    "def m1_log_prob(m,b,tau,o):\n",
    "    zero=tf.constant(0.,dtype=tf.float64)\n",
    "    y_mean=m[...,tf.newaxis]*x+b[...,tf.newaxis]+tf.gather(o,lab,axis=-1)\n",
    "    lp=tfd.Normal(zero,2.).log_prob(m)+tfd.Normal(zero,5.).log_prob(b)\n",
    "    lp+=tfd.HalfNormal(scale=tf.constant(5.,dtype=tf.float64)).log_prob(tau)\n",
    "    lp+=tf.reduce_sum(tfd.Normal(zero,tau[...,tf.newaxis]).log_prob(o),axis=-1)\n",
    "    lp+=tf.reduce_sum(tfd.Normal(y_mean,sigma).log_prob(y),axis=-1)\n",
    "    return lp\n",
    "\n",
    "nuts1=tfp.mcmc.NoUTurnSampler(m1_log_prob,step_size=0.05)\n",
    "trans=tfp.mcmc.TransformedTransitionKernel(nuts1,\n",
    "    bijector=[tfp.bijectors.Identity(),tfp.bijectors.Identity(),tfp.bijectors.Exp(),tfp.bijectors.Identity()])\n",
    "adapt1=tfp.mcmc.DualAveragingStepSizeAdaptation(trans,num_adaptation_steps=int(0.8*num_burnin))\n",
    "@tf.function(autograph=False)\n",
    "def run_m1():\n",
    "    return tfp.mcmc.sample_chain(num_results=num_samples,num_burnin_steps=num_burnin,\n",
    "        current_state=[tf.zeros([num_chains],tf.float64),tf.zeros([num_chains],tf.float64),tf.zeros([num_chains],tf.float64),tf.zeros([num_chains,num_labs],tf.float64)],\n",
    "        kernel=adapt1,trace_fn=lambda cs,kr:kr)\n",
    "(samples_m1,kr1)=run_m1()\n",
    "m_m1,b_m1,tau_m1,o_m1=samples_m1\n"
   ]
  },
  {
   "cell_type": "code",
   "execution_count": 4,
   "id": "a9ff370a",
   "metadata": {
    "execution": {
     "iopub.execute_input": "2025-08-29T21:13:13.885344Z",
     "iopub.status.busy": "2025-08-29T21:13:13.885142Z",
     "iopub.status.idle": "2025-08-29T21:13:13.915110Z",
     "shell.execute_reply": "2025-08-29T21:13:13.914518Z"
    }
   },
   "outputs": [
    {
     "name": "stdout",
     "output_type": "stream",
     "text": [
      "M0 slope mean 1.1918964370591312\n",
      "M1 slope mean 0.0\n",
      "tau mean 0.0\n",
      "Rhat m0 0.9987838235408975\n",
      "Rhat m1 nan\n",
      "M1 slope CI [0. 0. 0.]\n",
      "M1 tau CI [0. 0. 0.]\n"
     ]
    }
   ],
   "source": [
    "# --- Summaries ---\n",
    "import numpy as np\n",
    "m0_flat=m_m0.numpy().reshape(-1)\n",
    "b0_flat=b_m0.numpy().reshape(-1)\n",
    "m1_flat=m_m1.numpy().reshape(-1)\n",
    "b1_flat=b_m1.numpy().reshape(-1)\n",
    "tau_flat=tau_m1.numpy().reshape(-1)\n",
    "o_flat=o_m1.numpy().reshape(-1,num_labs)\n",
    "print('M0 slope mean',m0_flat.mean())\n",
    "print('M1 slope mean',m1_flat.mean())\n",
    "print('tau mean',tau_flat.mean())\n",
    "rhat_m0=tfp.mcmc.potential_scale_reduction(m_m0)\n",
    "rhat_m1=tfp.mcmc.potential_scale_reduction(m_m1)\n",
    "print('Rhat m0',rhat_m0.numpy())\n",
    "print('Rhat m1',rhat_m1.numpy())\n",
    "print('M1 slope CI',np.percentile(m1_flat,[2.5,50,97.5]))\n",
    "print('M1 tau CI',np.percentile(tau_flat,[2.5,50,97.5]))\n"
   ]
  },
  {
   "cell_type": "code",
   "execution_count": 5,
   "id": "2812ac74",
   "metadata": {
    "execution": {
     "iopub.execute_input": "2025-08-29T21:13:13.916954Z",
     "iopub.status.busy": "2025-08-29T21:13:13.916757Z",
     "iopub.status.idle": "2025-08-29T21:13:15.471906Z",
     "shell.execute_reply": "2025-08-29T21:13:15.471223Z"
    }
   },
   "outputs": [
    {
     "name": "stderr",
     "output_type": "stream",
     "text": [
      "/Users/adrianzapaterreig/Documents/Personal/MBH/bayesian-modelling-example/.venv/lib/python3.11/site-packages/scipy/_lib/_util.py:1279: RuntimeWarning: divide by zero encountered in vecdot\n",
      "  return np.vecdot(x1, x2, axis=axis)\n",
      "/Users/adrianzapaterreig/Documents/Personal/MBH/bayesian-modelling-example/.venv/lib/python3.11/site-packages/scipy/_lib/_util.py:1279: RuntimeWarning: overflow encountered in vecdot\n",
      "  return np.vecdot(x1, x2, axis=axis)\n",
      "/Users/adrianzapaterreig/Documents/Personal/MBH/bayesian-modelling-example/.venv/lib/python3.11/site-packages/scipy/_lib/_util.py:1279: RuntimeWarning: invalid value encountered in vecdot\n",
      "  return np.vecdot(x1, x2, axis=axis)\n"
     ]
    },
    {
     "data": {
      "image/png": "[encoded data removed]",
      "text/plain": [
       "<Figure size 600x400 with 1 Axes>"
      ]
     },
     "metadata": {},
     "output_type": "display_data"
    }
   ],
   "source": [
    "# --- Posterior predictive check for M1 ---\n",
    "y_mean=m1_flat[:,None]*x.numpy()[None,:]+b1_flat[:,None]+o_flat[:,lab.numpy()]\n",
    "y_rep=y_mean+np.random.normal(size=y_mean.shape)*sigma.numpy()[None,:]\n",
    "plt.figure(figsize=(6,4))\n",
    "sns.kdeplot(df['y'],label='observed')\n",
    "sns.kdeplot(y_rep.flatten(),label='replicated',fill=True,alpha=0.3)\n",
    "plt.legend();plt.title('Global PPC M1');plt.show()\n"
   ]
  },
  {
   "cell_type": "code",
   "execution_count": 6,
   "id": "88311693",
   "metadata": {
    "execution": {
     "iopub.execute_input": "2025-08-29T21:13:15.474219Z",
     "iopub.status.busy": "2025-08-29T21:13:15.473975Z",
     "iopub.status.idle": "2025-08-29T21:13:15.513217Z",
     "shell.execute_reply": "2025-08-29T21:13:15.512701Z"
    }
   },
   "outputs": [
    {
     "name": "stdout",
     "output_type": "stream",
     "text": [
      "WAIC M0 391.5116406865544\n",
      "WAIC M1 1189.5841037787368\n",
      "Delta elpd -399.0362315460912\n"
     ]
    }
   ],
   "source": [
    "# --- WAIC comparison ---\n",
    "log_lik0=tfd.Normal(m0_flat[:,None]*x.numpy()[None,:]+b0_flat[:,None],sigma.numpy()).log_prob(y.numpy())\n",
    "log_lik1=tfd.Normal(y_mean,sigma.numpy()).log_prob(y.numpy())\n",
    "\n",
    "def waic(log_lik):\n",
    "    lppd=tf.math.reduce_logsumexp(log_lik,axis=0)-tf.math.log(tf.cast(log_lik.shape[0],tf.float64))\n",
    "    p=tf.math.reduce_variance(log_lik,axis=0)\n",
    "    elpd=tf.reduce_sum(lppd-p)\n",
    "    return -2*elpd, elpd\n",
    "waic0,elpd0=waic(log_lik0)\n",
    "waic1,elpd1=waic(log_lik1)\n",
    "print('WAIC M0',waic0.numpy())\n",
    "print('WAIC M1',waic1.numpy())\n",
    "print('Delta elpd', (elpd1-elpd0).numpy())\n"
   ]
  },
  {
   "cell_type": "markdown",
   "id": "3c2e600d",
   "metadata": {},
   "source": [
    "## Results summary\n",
    "\n",
    "In this simulation the offset model $M_1$ did not improve predictive performance over $M_0$ (negative $\\Delta$elpd) and the estimated offset scale $\tau$ remained near zero, offering little evidence for experiment-specific offsets."
   ]
  }
 ],
 "metadata": {
  "kernelspec": {
   "display_name": ".venv",
   "language": "python",
   "name": "python3"
  },
  "language_info": {
   "codemirror_mode": {
    "name": "ipython",
    "version": 3
   },
   "file_extension": ".py",
   "mimetype": "text/x-python",
   "name": "python",
   "nbconvert_exporter": "python",
   "pygments_lexer": "ipython3",
   "version": "3.11.8"
  }
 },
 "nbformat": 4,
 "nbformat_minor": 5
}
