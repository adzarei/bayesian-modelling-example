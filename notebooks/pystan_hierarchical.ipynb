{
 "cells": [
  {
   "cell_type": "markdown",
   "id": "94678a6c",
   "metadata": {},
   "source": [
    "# PyStan Hierarchical Proper Motion Analysis\n",
    "This notebook fits two Bayesian linear models to the proper motion dataset using PyStan.\n",
    "Model comparison tests whether experiment-specific zero-point offsets are supported by the data [BDA3 Ch. 5]."
   ]
  },
  {
   "cell_type": "markdown",
   "id": "8fc9cb6f",
   "metadata": {},
   "source": [
    "## Data loading"
   ]
  },
  {
   "cell_type": "code",
   "execution_count": 1,
   "id": "991a60f7",
   "metadata": {
    "execution": {
     "iopub.execute_input": "2025-08-29T21:41:36.577566Z",
     "iopub.status.busy": "2025-08-29T21:41:36.577374Z",
     "iopub.status.idle": "2025-08-29T21:41:38.494851Z",
     "shell.execute_reply": "2025-08-29T21:41:38.494090Z"
    }
   },
   "outputs": [
    {
     "name": "stderr",
     "output_type": "stream",
     "text": [
      "/root/.pyenv/versions/3.12.10/lib/python3.12/site-packages/stan/plugins.py:4: UserWarning: pkg_resources is deprecated as an API. See https://setuptools.pypa.io/en/latest/pkg_resources.html. The pkg_resources package is slated for removal as early as 2025-11-30. Refrain from using this package or pin to Setuptools<81.\n",
      "  import pkg_resources\n"
     ]
    }
   ],
   "source": [
    "import pandas as pd\n",
    "import numpy as np\n",
    "import stan\n",
    "import arviz as az\n",
    "import matplotlib.pyplot as plt\n",
    "import nest_asyncio\n",
    "nest_asyncio.apply()\n",
    "\n",
    "df = pd.read_csv('data/properMotions.csv')\n",
    "N = len(df)\n",
    "L = df['experiment'].nunique()\n",
    "lab = df['experiment'].astype(int).values\n",
    "x = df['x'].values - df['x'].values.mean()\n",
    "y = df['y'].values\n",
    "sigma = df['sigma'].values\n"
   ]
  },
  {
   "cell_type": "markdown",
   "id": "e90162d0",
   "metadata": {},
   "source": [
    "## Model definitions\n",
    "We compare a baseline linear relation with slope $m$ and intercept $b$ against a hierarchical model with experiment offsets $o_i$.\n",
    "Measurement errors $\\sigma_i$ are known and each experiment is treated as exchangeable [BDA3 Ch. 5].\n",
    "Priors are weakly informative: $m\\sim\\mathcal N(0,5)$, $b\\sim\\mathcal N(0,10)$, offsets $o_i\\sim\\mathcal N(0,\tau^2)$ with $\tau\\sim\text{half-N}(5)$ [BDA3 Ch.3]."
   ]
  },
  {
   "cell_type": "code",
   "execution_count": 2,
   "id": "60464469",
   "metadata": {
    "execution": {
     "iopub.execute_input": "2025-08-29T21:41:38.497640Z",
     "iopub.status.busy": "2025-08-29T21:41:38.497440Z",
     "iopub.status.idle": "2025-08-29T21:41:38.500859Z",
     "shell.execute_reply": "2025-08-29T21:41:38.500258Z"
    }
   },
   "outputs": [],
   "source": [
    "model_code_m0 = \"\"\"\n",
    " data {\n",
    "  int<lower=1> N;\n",
    "  vector[N] x;\n",
    "  vector[N] y;\n",
    "  vector[N] sigma;\n",
    " }\n",
    " parameters {\n",
    "  real m;\n",
    "  real b;\n",
    " }\n",
    " model {\n",
    "  m ~ normal(0,5);\n",
    "  b ~ normal(0,10);\n",
    "  y ~ normal(m * x + b, sigma);\n",
    " }\n",
    " generated quantities {\n",
    "  vector[N] y_rep;\n",
    "  vector[N] log_lik;\n",
    "  for (n in 1:N) {\n",
    "    y_rep[n] = normal_rng(m * x[n] + b, sigma[n]);\n",
    "    log_lik[n] = normal_lpdf(y[n] | m * x[n] + b, sigma[n]);\n",
    "  }\n",
    " }\n",
    "\"\"\"\n",
    "\n",
    "model_code_m1 = \"\"\"\n",
    " data {\n",
    "  int<lower=1> N;\n",
    "  int<lower=1> L;\n",
    "  vector[N] x;\n",
    "  vector[N] y;\n",
    "  vector[N] sigma;\n",
    "  array[N] int<lower=1, upper=L> lab;\n",
    " }\n",
    " parameters {\n",
    "  real m;\n",
    "  real b;\n",
    "  vector[L] offset_raw;\n",
    "  real<lower=0> tau;\n",
    " }\n",
    " transformed parameters {\n",
    "  vector[L] o = tau * offset_raw;\n",
    " }\n",
    " model {\n",
    "  m ~ normal(0,5);\n",
    "  b ~ normal(0,10);\n",
    "  offset_raw ~ normal(0,1);\n",
    "  tau ~ normal(0,5);\n",
    "  for (n in 1:N)\n",
    "    y[n] ~ normal(m * x[n] + b + o[lab[n]], sigma[n]);\n",
    " }\n",
    " generated quantities {\n",
    "  vector[N] y_rep;\n",
    "  vector[N] log_lik;\n",
    "  for (n in 1:N) {\n",
    "    y_rep[n] = normal_rng(m * x[n] + b + o[lab[n]], sigma[n]);\n",
    "    log_lik[n] = normal_lpdf(y[n] | m * x[n] + b + o[lab[n]], sigma[n]);\n",
    "  }\n",
    " }\n",
    "\"\"\"\n"
   ]
  },
  {
   "cell_type": "markdown",
   "id": "c079517c",
   "metadata": {},
   "source": [
    "## Sampling"
   ]
  },
  {
   "cell_type": "code",
   "execution_count": 3,
   "id": "de09d9c3",
   "metadata": {
    "execution": {
     "iopub.execute_input": "2025-08-29T21:41:38.502662Z",
     "iopub.status.busy": "2025-08-29T21:41:38.502472Z",
     "iopub.status.idle": "2025-08-29T21:41:44.064376Z",
     "shell.execute_reply": "2025-08-29T21:41:44.060957Z"
    }
   },
   "outputs": [
    {
     "name": "stderr",
     "output_type": "stream",
     "text": [
      "\u001b[32mBuilding:\u001b[0m found in cache, done.\n"
     ]
    },
    {
     "name": "stderr",
     "output_type": "stream",
     "text": [
      "\u001b[36mSampling:\u001b[0m   0%\n"
     ]
    },
    {
     "name": "stderr",
     "output_type": "stream",
     "text": [
      "\u001b[1A"
     ]
    },
    {
     "name": "stderr",
     "output_type": "stream",
     "text": [
      "\u001b[0J"
     ]
    },
    {
     "name": "stderr",
     "output_type": "stream",
     "text": [
      "\u001b[36mSampling:\u001b[0m  25% (1500/6000)\n"
     ]
    },
    {
     "name": "stderr",
     "output_type": "stream",
     "text": [
      "\u001b[1A"
     ]
    },
    {
     "name": "stderr",
     "output_type": "stream",
     "text": [
      "\u001b[0J"
     ]
    },
    {
     "name": "stderr",
     "output_type": "stream",
     "text": [
      "\u001b[36mSampling:\u001b[0m  50% (3000/6000)\n"
     ]
    },
    {
     "name": "stderr",
     "output_type": "stream",
     "text": [
      "\u001b[1A"
     ]
    },
    {
     "name": "stderr",
     "output_type": "stream",
     "text": [
      "\u001b[0J"
     ]
    },
    {
     "name": "stderr",
     "output_type": "stream",
     "text": [
      "\u001b[36mSampling:\u001b[0m  75% (4500/6000)\n"
     ]
    },
    {
     "name": "stderr",
     "output_type": "stream",
     "text": [
      "\u001b[1A"
     ]
    },
    {
     "name": "stderr",
     "output_type": "stream",
     "text": [
      "\u001b[0J"
     ]
    },
    {
     "name": "stderr",
     "output_type": "stream",
     "text": [
      "\u001b[36mSampling:\u001b[0m 100% (6000/6000)\n"
     ]
    },
    {
     "name": "stderr",
     "output_type": "stream",
     "text": [
      "\u001b[1A"
     ]
    },
    {
     "name": "stderr",
     "output_type": "stream",
     "text": [
      "\u001b[0J"
     ]
    },
    {
     "name": "stderr",
     "output_type": "stream",
     "text": [
      "\u001b[32mSampling:\u001b[0m 100% (6000/6000), done.\n"
     ]
    },
    {
     "name": "stderr",
     "output_type": "stream",
     "text": [
      "\u001b[36mMessages received during sampling:\u001b[0m\n"
     ]
    },
    {
     "name": "stderr",
     "output_type": "stream",
     "text": [
      "  Gradient evaluation took 0.000473 seconds\n"
     ]
    },
    {
     "name": "stderr",
     "output_type": "stream",
     "text": [
      "  1000 transitions using 10 leapfrog steps per transition would take 4.73 seconds.\n"
     ]
    },
    {
     "name": "stderr",
     "output_type": "stream",
     "text": [
      "  Adjust your expectations accordingly!\n"
     ]
    },
    {
     "name": "stderr",
     "output_type": "stream",
     "text": [
      "  Gradient evaluation took 0.000439 seconds\n"
     ]
    },
    {
     "name": "stderr",
     "output_type": "stream",
     "text": [
      "  1000 transitions using 10 leapfrog steps per transition would take 4.39 seconds.\n"
     ]
    },
    {
     "name": "stderr",
     "output_type": "stream",
     "text": [
      "  Adjust your expectations accordingly!\n"
     ]
    },
    {
     "name": "stderr",
     "output_type": "stream",
     "text": [
      "  Gradient evaluation took 0.000451 seconds\n"
     ]
    },
    {
     "name": "stderr",
     "output_type": "stream",
     "text": [
      "  1000 transitions using 10 leapfrog steps per transition would take 4.51 seconds.\n"
     ]
    },
    {
     "name": "stderr",
     "output_type": "stream",
     "text": [
      "  Adjust your expectations accordingly!\n"
     ]
    },
    {
     "name": "stderr",
     "output_type": "stream",
     "text": [
      "  Gradient evaluation took 0.000532 seconds\n"
     ]
    },
    {
     "name": "stderr",
     "output_type": "stream",
     "text": [
      "  1000 transitions using 10 leapfrog steps per transition would take 5.32 seconds.\n"
     ]
    },
    {
     "name": "stderr",
     "output_type": "stream",
     "text": [
      "  Adjust your expectations accordingly!\n"
     ]
    },
    {
     "name": "stderr",
     "output_type": "stream",
     "text": [
      "\u001b[32mBuilding:\u001b[0m found in cache, done.\n"
     ]
    },
    {
     "name": "stderr",
     "output_type": "stream",
     "text": [
      "\u001b[36mSampling:\u001b[0m   0%\n"
     ]
    },
    {
     "name": "stderr",
     "output_type": "stream",
     "text": [
      "\u001b[1A"
     ]
    },
    {
     "name": "stderr",
     "output_type": "stream",
     "text": [
      "\u001b[0J"
     ]
    },
    {
     "name": "stderr",
     "output_type": "stream",
     "text": [
      "\u001b[36mSampling:\u001b[0m   2% (100/6000)\n"
     ]
    },
    {
     "name": "stderr",
     "output_type": "stream",
     "text": [
      "\u001b[1A"
     ]
    },
    {
     "name": "stderr",
     "output_type": "stream",
     "text": [
      "\u001b[0J"
     ]
    },
    {
     "name": "stderr",
     "output_type": "stream",
     "text": [
      "\u001b[36mSampling:\u001b[0m   7% (400/6000)\n"
     ]
    },
    {
     "name": "stderr",
     "output_type": "stream",
     "text": [
      "\u001b[1A"
     ]
    },
    {
     "name": "stderr",
     "output_type": "stream",
     "text": [
      "\u001b[0J"
     ]
    },
    {
     "name": "stderr",
     "output_type": "stream",
     "text": [
      "\u001b[36mSampling:\u001b[0m  32% (1900/6000)\n"
     ]
    },
    {
     "name": "stderr",
     "output_type": "stream",
     "text": [
      "\u001b[1A"
     ]
    },
    {
     "name": "stderr",
     "output_type": "stream",
     "text": [
      "\u001b[0J"
     ]
    },
    {
     "name": "stderr",
     "output_type": "stream",
     "text": [
      "\u001b[36mSampling:\u001b[0m  57% (3400/6000)\n"
     ]
    },
    {
     "name": "stderr",
     "output_type": "stream",
     "text": [
      "\u001b[1A"
     ]
    },
    {
     "name": "stderr",
     "output_type": "stream",
     "text": [
      "\u001b[0J"
     ]
    },
    {
     "name": "stderr",
     "output_type": "stream",
     "text": [
      "\u001b[36mSampling:\u001b[0m  80% (4800/6000)\n"
     ]
    },
    {
     "name": "stderr",
     "output_type": "stream",
     "text": [
      "\u001b[1A"
     ]
    },
    {
     "name": "stderr",
     "output_type": "stream",
     "text": [
      "\u001b[0J"
     ]
    },
    {
     "name": "stderr",
     "output_type": "stream",
     "text": [
      "\u001b[36mSampling:\u001b[0m 100% (6000/6000)\n"
     ]
    },
    {
     "name": "stderr",
     "output_type": "stream",
     "text": [
      "\u001b[1A"
     ]
    },
    {
     "name": "stderr",
     "output_type": "stream",
     "text": [
      "\u001b[0J"
     ]
    },
    {
     "name": "stderr",
     "output_type": "stream",
     "text": [
      "\u001b[32mSampling:\u001b[0m 100% (6000/6000), done.\n"
     ]
    },
    {
     "name": "stderr",
     "output_type": "stream",
     "text": [
      "\u001b[36mMessages received during sampling:\u001b[0m\n"
     ]
    },
    {
     "name": "stderr",
     "output_type": "stream",
     "text": [
      "  Gradient evaluation took 0.000266 seconds\n"
     ]
    },
    {
     "name": "stderr",
     "output_type": "stream",
     "text": [
      "  1000 transitions using 10 leapfrog steps per transition would take 2.66 seconds.\n"
     ]
    },
    {
     "name": "stderr",
     "output_type": "stream",
     "text": [
      "  Adjust your expectations accordingly!\n"
     ]
    },
    {
     "name": "stderr",
     "output_type": "stream",
     "text": [
      "  Gradient evaluation took 0.000119 seconds\n"
     ]
    },
    {
     "name": "stderr",
     "output_type": "stream",
     "text": [
      "  1000 transitions using 10 leapfrog steps per transition would take 1.19 seconds.\n"
     ]
    },
    {
     "name": "stderr",
     "output_type": "stream",
     "text": [
      "  Adjust your expectations accordingly!\n"
     ]
    },
    {
     "name": "stderr",
     "output_type": "stream",
     "text": [
      "  Gradient evaluation took 0.000113 seconds\n"
     ]
    },
    {
     "name": "stderr",
     "output_type": "stream",
     "text": [
      "  1000 transitions using 10 leapfrog steps per transition would take 1.13 seconds.\n"
     ]
    },
    {
     "name": "stderr",
     "output_type": "stream",
     "text": [
      "  Adjust your expectations accordingly!\n"
     ]
    },
    {
     "name": "stderr",
     "output_type": "stream",
     "text": [
      "  Informational Message: The current Metropolis proposal is about to be rejected because of the following issue:\n"
     ]
    },
    {
     "name": "stderr",
     "output_type": "stream",
     "text": [
      "  Exception: normal_lpdf: Location parameter is inf, but must be finite! (in '/tmp/httpstan_dx2qz8nk/model_jobxn23z.stan', line 25, column 4 to column 54)\n"
     ]
    },
    {
     "name": "stderr",
     "output_type": "stream",
     "text": [
      "  If this warning occurs sporadically, such as for highly constrained variable types like covariance matrices, then the sampler is fine,\n"
     ]
    },
    {
     "name": "stderr",
     "output_type": "stream",
     "text": [
      "  but if this warning occurs often then your model may be either severely ill-conditioned or misspecified.\n"
     ]
    },
    {
     "name": "stderr",
     "output_type": "stream",
     "text": [
      "  Informational Message: The current Metropolis proposal is about to be rejected because of the following issue:\n"
     ]
    },
    {
     "name": "stderr",
     "output_type": "stream",
     "text": [
      "  Exception: normal_lpdf: Location parameter is inf, but must be finite! (in '/tmp/httpstan_dx2qz8nk/model_jobxn23z.stan', line 25, column 4 to column 54)\n"
     ]
    },
    {
     "name": "stderr",
     "output_type": "stream",
     "text": [
      "  If this warning occurs sporadically, such as for highly constrained variable types like covariance matrices, then the sampler is fine,\n"
     ]
    },
    {
     "name": "stderr",
     "output_type": "stream",
     "text": [
      "  but if this warning occurs often then your model may be either severely ill-conditioned or misspecified.\n"
     ]
    },
    {
     "name": "stderr",
     "output_type": "stream",
     "text": [
      "  Gradient evaluation took 0.000125 seconds\n"
     ]
    },
    {
     "name": "stderr",
     "output_type": "stream",
     "text": [
      "  1000 transitions using 10 leapfrog steps per transition would take 1.25 seconds.\n"
     ]
    },
    {
     "name": "stderr",
     "output_type": "stream",
     "text": [
      "  Adjust your expectations accordingly!\n"
     ]
    },
    {
     "name": "stderr",
     "output_type": "stream",
     "text": [
      "  Informational Message: The current Metropolis proposal is about to be rejected because of the following issue:\n"
     ]
    },
    {
     "name": "stderr",
     "output_type": "stream",
     "text": [
      "  Exception: normal_lpdf: Location parameter is inf, but must be finite! (in '/tmp/httpstan_dx2qz8nk/model_jobxn23z.stan', line 25, column 4 to column 54)\n"
     ]
    },
    {
     "name": "stderr",
     "output_type": "stream",
     "text": [
      "  If this warning occurs sporadically, such as for highly constrained variable types like covariance matrices, then the sampler is fine,\n"
     ]
    },
    {
     "name": "stderr",
     "output_type": "stream",
     "text": [
      "  but if this warning occurs often then your model may be either severely ill-conditioned or misspecified.\n"
     ]
    },
    {
     "name": "stderr",
     "output_type": "stream",
     "text": [
      "  Informational Message: The current Metropolis proposal is about to be rejected because of the following issue:\n"
     ]
    },
    {
     "name": "stderr",
     "output_type": "stream",
     "text": [
      "  Exception: normal_lpdf: Location parameter is inf, but must be finite! (in '/tmp/httpstan_dx2qz8nk/model_jobxn23z.stan', line 25, column 4 to column 54)\n"
     ]
    },
    {
     "name": "stderr",
     "output_type": "stream",
     "text": [
      "  If this warning occurs sporadically, such as for highly constrained variable types like covariance matrices, then the sampler is fine,\n"
     ]
    },
    {
     "name": "stderr",
     "output_type": "stream",
     "text": [
      "  but if this warning occurs often then your model may be either severely ill-conditioned or misspecified.\n"
     ]
    },
    {
     "name": "stderr",
     "output_type": "stream",
     "text": [
      "  Informational Message: The current Metropolis proposal is about to be rejected because of the following issue:\n"
     ]
    },
    {
     "name": "stderr",
     "output_type": "stream",
     "text": [
      "  Exception: normal_lpdf: Location parameter is inf, but must be finite! (in '/tmp/httpstan_dx2qz8nk/model_jobxn23z.stan', line 25, column 4 to column 54)\n"
     ]
    },
    {
     "name": "stderr",
     "output_type": "stream",
     "text": [
      "  If this warning occurs sporadically, such as for highly constrained variable types like covariance matrices, then the sampler is fine,\n"
     ]
    },
    {
     "name": "stderr",
     "output_type": "stream",
     "text": [
      "  but if this warning occurs often then your model may be either severely ill-conditioned or misspecified.\n"
     ]
    },
    {
     "name": "stderr",
     "output_type": "stream",
     "text": [
      "  Informational Message: The current Metropolis proposal is about to be rejected because of the following issue:\n"
     ]
    },
    {
     "name": "stderr",
     "output_type": "stream",
     "text": [
      "  Exception: normal_lpdf: Location parameter is inf, but must be finite! (in '/tmp/httpstan_dx2qz8nk/model_jobxn23z.stan', line 25, column 4 to column 54)\n"
     ]
    },
    {
     "name": "stderr",
     "output_type": "stream",
     "text": [
      "  If this warning occurs sporadically, such as for highly constrained variable types like covariance matrices, then the sampler is fine,\n"
     ]
    },
    {
     "name": "stderr",
     "output_type": "stream",
     "text": [
      "  but if this warning occurs often then your model may be either severely ill-conditioned or misspecified.\n"
     ]
    }
   ],
   "source": [
    "posterior_m0 = stan.build(model_code_m0, data={'N':N, 'x':x, 'y':y, 'sigma':sigma}, random_seed=1)\n",
    "fit_m0 = posterior_m0.sample(num_chains=4, num_warmup=500, num_samples=1000)\n",
    "\n",
    "posterior_m1 = stan.build(model_code_m1, data={'N':N, 'L':L, 'x':x, 'y':y, 'sigma':sigma, 'lab':lab}, random_seed=2)\n",
    "fit_m1 = posterior_m1.sample(num_chains=4, num_warmup=500, num_samples=1000)\n"
   ]
  },
  {
   "cell_type": "markdown",
   "id": "c3b31a20",
   "metadata": {},
   "source": [
    "## Diagnostics and summaries"
   ]
  },
  {
   "cell_type": "code",
   "execution_count": 4,
   "id": "c201e852",
   "metadata": {
    "execution": {
     "iopub.execute_input": "2025-08-29T21:41:44.072857Z",
     "iopub.status.busy": "2025-08-29T21:41:44.071239Z",
     "iopub.status.idle": "2025-08-29T21:41:44.303470Z",
     "shell.execute_reply": "2025-08-29T21:41:44.302622Z"
    }
   },
   "outputs": [
    {
     "name": "stdout",
     "output_type": "stream",
     "text": [
      "Model M0 summary:\n",
      "     mean     sd  hdi_2.5%  hdi_97.5%  mcse_mean  mcse_sd  ess_bulk  ess_tail  \\\n",
      "m  0.313  0.064     0.184      0.432      0.001    0.001    3028.0    2945.0   \n",
      "b  5.310  0.020     5.270      5.348      0.000    0.000    2887.0    2333.0   \n",
      "\n",
      "   r_hat  \n",
      "m    1.0  \n",
      "b    1.0  \n",
      "\n",
      "Model M1 summary:\n",
      "        mean     sd  hdi_2.5%  hdi_97.5%  mcse_mean  mcse_sd  ess_bulk  \\\n",
      "m     0.358  0.066     0.237      0.489      0.001    0.001    2252.0   \n",
      "b     5.237  0.116     4.996      5.458      0.004    0.004     737.0   \n",
      "tau   0.282  0.122     0.120      0.506      0.005    0.015     837.0   \n",
      "o[0]  0.095  0.124    -0.141      0.349      0.004    0.004     835.0   \n",
      "o[1]  0.063  0.121    -0.184      0.292      0.004    0.004     835.0   \n",
      "o[2] -0.223  0.130    -0.497      0.018      0.004    0.004    1019.0   \n",
      "o[3] -0.200  0.124    -0.430      0.055      0.004    0.004     888.0   \n",
      "o[4]  0.026  0.123    -0.205      0.278      0.004    0.004     853.0   \n",
      "o[5]  0.378  0.121     0.150      0.626      0.004    0.004     820.0   \n",
      "o[6] -0.149  0.134    -0.428      0.110      0.004    0.004     973.0   \n",
      "\n",
      "      ess_tail  r_hat  \n",
      "m       2330.0   1.00  \n",
      "b        828.0   1.01  \n",
      "tau     1095.0   1.00  \n",
      "o[0]     879.0   1.00  \n",
      "o[1]     924.0   1.00  \n",
      "o[2]    1097.0   1.00  \n",
      "o[3]    1028.0   1.00  \n",
      "o[4]     992.0   1.00  \n",
      "o[5]     950.0   1.01  \n",
      "o[6]    1254.0   1.00  \n"
     ]
    }
   ],
   "source": [
    "idata_m0 = az.from_pystan(posterior=fit_m0, posterior_predictive='y_rep', log_likelihood='log_lik', observed_data={'y': y})\n",
    "idata_m1 = az.from_pystan(posterior=fit_m1, posterior_predictive='y_rep', log_likelihood='log_lik', observed_data={'y': y})\n",
    "\n",
    "summary_m0 = az.summary(idata_m0, var_names=['m','b'], hdi_prob=0.95)\n",
    "summary_m1 = az.summary(idata_m1, var_names=['m','b','tau','o'], hdi_prob=0.95)\n",
    "print('Model M0 summary:\\n', summary_m0)\n",
    "print('\\nModel M1 summary:\\n', summary_m1)\n"
   ]
  },
  {
   "cell_type": "code",
   "execution_count": 5,
   "id": "2fa7c8e9",
   "metadata": {
    "execution": {
     "iopub.execute_input": "2025-08-29T21:41:44.305628Z",
     "iopub.status.busy": "2025-08-29T21:41:44.305414Z",
     "iopub.status.idle": "2025-08-29T21:41:44.491145Z",
     "shell.execute_reply": "2025-08-29T21:41:44.490475Z"
    }
   },
   "outputs": [
    {
     "name": "stdout",
     "output_type": "stream",
     "text": [
      "LOO M0: -57.69448540662707\n",
      "LOO M1: -2.429294082686914\n",
      "Delta LOO: 55.26519132394015\n"
     ]
    }
   ],
   "source": [
    "loo_m0 = az.loo(idata_m0)\n",
    "loo_m1 = az.loo(idata_m1)\n",
    "print('LOO M0:', loo_m0.elpd_loo)\n",
    "print('LOO M1:', loo_m1.elpd_loo)\n",
    "print('Delta LOO:', loo_m1.elpd_loo - loo_m0.elpd_loo)\n"
   ]
  },
  {
   "cell_type": "markdown",
   "id": "0d32c766",
   "metadata": {},
   "source": [
    "## Posterior predictive check"
   ]
  },
  {
   "cell_type": "code",
   "execution_count": 6,
   "id": "3a570552",
   "metadata": {
    "execution": {
     "iopub.execute_input": "2025-08-29T21:41:44.493270Z",
     "iopub.status.busy": "2025-08-29T21:41:44.493067Z",
     "iopub.status.idle": "2025-08-29T21:41:44.731368Z",
     "shell.execute_reply": "2025-08-29T21:41:44.730649Z"
    }
   },
   "outputs": [
    {
     "data": {
      "image/png": "[encoded data removed]",
      "text/plain": [
       "<Figure size 640x480 with 1 Axes>"
      ]
     },
     "metadata": {},
     "output_type": "display_data"
    }
   ],
   "source": [
    "yrep = idata_m1.posterior_predictive['y_rep'].stack(sample=('chain','draw')).values\n",
    "plt.hist(y, alpha=0.5, label='y')\n",
    "plt.hist(yrep.flatten(), alpha=0.5, label='y_rep', bins=30)\n",
    "plt.legend()\n",
    "plt.show()\n"
   ]
  },
  {
   "cell_type": "markdown",
   "id": "d15e151c",
   "metadata": {},
   "source": [
    "## Results summary"
   ]
  },
  {
   "cell_type": "code",
   "execution_count": 7,
   "id": "f47ff972",
   "metadata": {
    "execution": {
     "iopub.execute_input": "2025-08-29T21:41:44.733723Z",
     "iopub.status.busy": "2025-08-29T21:41:44.733509Z",
     "iopub.status.idle": "2025-08-29T21:41:44.783830Z",
     "shell.execute_reply": "2025-08-29T21:41:44.783163Z"
    }
   },
   "outputs": [
    {
     "name": "stdout",
     "output_type": "stream",
     "text": [
      "Posterior mean slope m=0.358\n",
      "Posterior mean intercept b=5.237\n",
      "Offset scale tau=0.282\n",
      "1 of 7 offsets have 95% credible intervals excluding 0\n",
      "Delta LOO (M1-M0) = 55.27\n"
     ]
    }
   ],
   "source": [
    "offset_summary = az.summary(idata_m1, var_names=['o'], hdi_prob=0.95)\n",
    "nonzero = ((offset_summary['hdi_2.5%']>0) | (offset_summary['hdi_97.5%']<0)).sum()\n",
    "print(f\"Posterior mean slope m={summary_m1.loc['m','mean']:.3f}\")\n",
    "print(f\"Posterior mean intercept b={summary_m1.loc['b','mean']:.3f}\")\n",
    "print(f\"Offset scale tau={summary_m1.loc['tau','mean']:.3f}\")\n",
    "print(f\"{nonzero} of {L} offsets have 95% credible intervals excluding 0\")\n",
    "print(f\"Delta LOO (M1-M0) = {loo_m1.elpd_loo - loo_m0.elpd_loo:.2f}\")\n"
   ]
  }
 ],
 "metadata": {
  "language_info": {
   "codemirror_mode": {
    "name": "ipython",
    "version": 3
   },
   "file_extension": ".py",
   "mimetype": "text/x-python",
   "name": "python",
   "nbconvert_exporter": "python",
   "pygments_lexer": "ipython3",
   "version": "3.12.10"
  }
 },
 "nbformat": 4,
 "nbformat_minor": 5
}
