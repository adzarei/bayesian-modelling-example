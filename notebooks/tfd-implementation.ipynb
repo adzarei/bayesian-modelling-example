{
 "cells": [
  {
   "cell_type": "markdown",
   "id": "8ce8024a",
   "metadata": {},
   "source": [
    "# PEC 1\n",
    "\n",
    "**Subject**: Hierarchical Bayesian Models\n",
    "\n",
    "**Author**: Adrian Jose Zapater Reig\n",
    "\n",
    "## Exercise Summary:\n",
    "\n",
    "$N$ scientific experiments to determine the coefficients of a linear relationship between two variables: $x$ (predictor) and $y$ (response).\n",
    "\n",
    "$$\n",
    "y = m \\cdot x + b + \\epsilon\n",
    "$$\n",
    "\n",
    "$\\epsilon$, which is the measurement error or noises is normally distributed:\n",
    "\n",
    "$$\n",
    "\\epsilon \\sim \\mathcal{N}(0, \\sigma)\n",
    "$$\n",
    "\n",
    "For each experiment $i$ ($i = 1, 2, ..., N$) we have a set of $n_i$ measures indexed by $j$ ($j = 1, 2, ..., n_i$). Each measurement can be represented as:\n",
    "\n",
    "$$\n",
    "(y_{ij}, x_{ij}) for j in {1, 2, ..., n_i}\n",
    "$$\n",
    "\n",
    "We have the follwing assumptions:\n",
    "\n",
    "1) All $N$ experiments are interchangeable.\n",
    "2) $m$ and $b$ are the same for all experiments (same linear relationship).\n",
    "3) The uncertainty in the measurement of $x_{ij}$ is negligible.\n",
    "4) Each experiment $i$ has its own known noise standard deviation $\\sigma_i$ (i.e., the noise is always centered at zero, but its standard deviation is experiment-dependent and known).\n",
    "\n",
    "### Problem:\n",
    "We suspect that each of the N experiments is affected by a Calibration problem of the zero points. This can be represented as :\n",
    "\n",
    "$$\n",
    "y_{ij} = m \\cdot x_{ij} + b + o_i + \\epsilon_{ij}\n",
    "$$\n",
    "\n",
    "where $o_i$ is the zero-point offset specific to experiment $i$.\n",
    "\n",
    "\n",
    "### Objective:\n",
    "The objective is to implement a hieararchical Bayesian model that described the dataset and use thos model in order to infer the linear relationship parameters and prove whether there is evidence that supports that there is a zero point offset per experiment."
   ]
  },
  {
   "cell_type": "markdown",
   "id": "b417e1f0",
   "metadata": {},
   "source": [
    "# Notes and thoughts found during reading the materials:\n",
    "- Our data has multiple observations (measurements) per random group (experiment). -> This violates the assumption of independence.\n",
    "  - We will need to use a hierarchical model for grouped data.\n",
    "- If experiments are exchangeable, we can use an exchangeable model for the parameters.\n",
    "- Labs are exchangeable groups\n",
    "  - Partial Pooling: Each lab's offset is a draw from a common population.\n",
    "- Within labs, measurements are conditionally independent given the global line (m, b), lab's offset and the known sd_ij\n",
    "  - if we ignored the grouping, we would be assuming that all measurements are independent, which is wrong.\n",
    "  - "
   ]
  },
  {
   "cell_type": "markdown",
   "id": "10635d5a",
   "metadata": {
    "vscode": {
     "languageId": "plaintext"
    }
   },
   "source": [
    "From the problem statement, measurements are not independent or exchangeable as they are. Each measurement has been taken in a lab, but not all measurements were taken in the same lab. Additionally, there is a suspicion that each lab has a different zero point offset. If we would ignore this and model the problem as a single population, we would be wrong.\n",
    "\n",
    "But, if at lab level we can assume each experiment is exchangeable, which is the as described in the problem statement, we can build a hierarchical model and extract a common prior for the goup properties. This means that we can assume measurements to be conditionally independent given the group properties: $o_i$ and $m, b$.\n",
    "\n",
    "Additionally, since experiments are exchangeable, we can use partial pooling treating each lab's offset as draw from a common population."
   ]
  },
  {
   "cell_type": "markdown",
   "id": "1b7c13d9",
   "metadata": {},
   "source": [
    "# Bayesian Hiearchical model of the data\n",
    "\n",
    "This means that our two data models, would look like this:\n",
    "\n",
    "* **Baseline model $M_0$** (no offsets)\n",
    "$$\n",
    "y_{ij}| m, b \\sim \\mathcal{N}(m x_{ij} + b, \\sigma_{ij}^2).\n",
    "$$\n",
    "\n",
    "* **Hierarchical model $M_1$** with offsets $o_i$:\n",
    "\n",
    "$$\n",
    "y_{ij}| m, b, o_i \\sim \\mathcal{N}(m x_{ij} + b + o_i,\\sigma_{ij}^2).\n",
    "$$\n"
   ]
  }
 ],
 "metadata": {
  "language_info": {
   "name": "python"
  }
 },
 "nbformat": 4,
 "nbformat_minor": 5
}
